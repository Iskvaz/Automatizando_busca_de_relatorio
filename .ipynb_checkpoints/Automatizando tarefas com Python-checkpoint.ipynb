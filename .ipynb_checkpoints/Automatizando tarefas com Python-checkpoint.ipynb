{
 "cells": [
  {
   "cell_type": "markdown",
   "id": "1eb4216e",
   "metadata": {},
   "source": [
    "# Inicio do Projeto/ Pensar no problema\n",
    "\n",
    "- Passo 1 - Buscar dados dos valores das acções direto do site.\n",
    "- 2 - Gerar as analises de forma automatica.\n",
    "- 3 - Enviar um e-mail automaticamente para o gestor com os resultados das analises."
   ]
  },
  {
   "cell_type": "markdown",
   "id": "e31cff0c",
   "metadata": {},
   "source": [
    "# Passo 1"
   ]
  },
  {
   "cell_type": "code",
   "execution_count": 2,
   "id": "3f1f2cc1",
   "metadata": {},
   "outputs": [
    {
     "name": "stdout",
     "output_type": "stream",
     "text": [
      "Defaulting to user installation because normal site-packages is not writeable"
     ]
    },
    {
     "name": "stderr",
     "output_type": "stream",
     "text": [
      "  WARNING: The script sample.exe is installed in 'C:\\Users\\Asus\\AppData\\Roaming\\Python\\Python39\\Scripts' which is not on PATH.\n",
      "  Consider adding this directory to PATH or, if you prefer to suppress this warning, use --no-warn-script-location.\n"
     ]
    },
    {
     "name": "stdout",
     "output_type": "stream",
     "text": [
      "\n",
      "Collecting yfinance\n",
      "  Downloading yfinance-0.1.87-py2.py3-none-any.whl (29 kB)\n",
      "Requirement already satisfied: numpy>=1.15 in c:\\programdata\\anaconda3\\lib\\site-packages (from yfinance) (1.21.5)\n",
      "Requirement already satisfied: pandas>=0.24.0 in c:\\programdata\\anaconda3\\lib\\site-packages (from yfinance) (1.4.2)\n",
      "Requirement already satisfied: appdirs>=1.4.4 in c:\\programdata\\anaconda3\\lib\\site-packages (from yfinance) (1.4.4)\n",
      "Collecting multitasking>=0.0.7\n",
      "  Downloading multitasking-0.0.11-py3-none-any.whl (8.5 kB)\n",
      "Requirement already satisfied: requests>=2.26 in c:\\programdata\\anaconda3\\lib\\site-packages (from yfinance) (2.27.1)\n",
      "Requirement already satisfied: lxml>=4.5.1 in c:\\programdata\\anaconda3\\lib\\site-packages (from yfinance) (4.8.0)\n",
      "Requirement already satisfied: python-dateutil>=2.8.1 in c:\\programdata\\anaconda3\\lib\\site-packages (from pandas>=0.24.0->yfinance) (2.8.2)\n",
      "Requirement already satisfied: pytz>=2020.1 in c:\\programdata\\anaconda3\\lib\\site-packages (from pandas>=0.24.0->yfinance) (2021.3)\n",
      "Requirement already satisfied: six>=1.5 in c:\\programdata\\anaconda3\\lib\\site-packages (from python-dateutil>=2.8.1->pandas>=0.24.0->yfinance) (1.16.0)\n",
      "Requirement already satisfied: charset-normalizer~=2.0.0 in c:\\programdata\\anaconda3\\lib\\site-packages (from requests>=2.26->yfinance) (2.0.4)\n",
      "Requirement already satisfied: idna<4,>=2.5 in c:\\programdata\\anaconda3\\lib\\site-packages (from requests>=2.26->yfinance) (3.3)\n",
      "Requirement already satisfied: urllib3<1.27,>=1.21.1 in c:\\programdata\\anaconda3\\lib\\site-packages (from requests>=2.26->yfinance) (1.26.9)\n",
      "Requirement already satisfied: certifi>=2017.4.17 in c:\\programdata\\anaconda3\\lib\\site-packages (from requests>=2.26->yfinance) (2021.10.8)\n",
      "Installing collected packages: multitasking, yfinance\n",
      "Successfully installed multitasking-0.0.11 yfinance-0.1.87\n"
     ]
    }
   ],
   "source": [
    "!pip install yfinance"
   ]
  },
  {
   "cell_type": "code",
   "execution_count": 3,
   "id": "90ed9ad8",
   "metadata": {},
   "outputs": [],
   "source": [
    "import yfinance"
   ]
  },
  {
   "cell_type": "code",
   "execution_count": 88,
   "id": "521b714c",
   "metadata": {},
   "outputs": [
    {
     "name": "stdout",
     "output_type": "stream",
     "text": [
      "Digite a sigla da ação desejadaPETR4.SA\n"
     ]
    },
    {
     "data": {
      "text/plain": [
       "<AxesSubplot:xlabel='Date'>"
      ]
     },
     "execution_count": 88,
     "metadata": {},
     "output_type": "execute_result"
    },
    {
     "data": {
      "image/png": "[encoded data removed]",
      "text/plain": [
       "<Figure size 432x288 with 1 Axes>"
      ]
     },
     "metadata": {
      "needs_background": "light"
     },
     "output_type": "display_data"
    }
   ],
   "source": [
    "ticker = input(\"Digite a sigla da ação desejada\")\n",
    "dados = yfinance.Ticker(ticker).history(\"6mo\")\n",
    "fechamento = dados.Close\n",
    "fechamento.plot()"
   ]
  },
  {
   "cell_type": "markdown",
   "id": "ea74dd78",
   "metadata": {},
   "source": [
    "# Passo 2\n",
    "\n",
    "Analises dos últimos 6 meses:\n",
    "\n",
    "\n",
    "- Cotação Máxima\n",
    "- Cotação Minima\n",
    "- Cotação Atual\n"
   ]
  },
  {
   "cell_type": "code",
   "execution_count": 90,
   "id": "dae863d0",
   "metadata": {},
   "outputs": [],
   "source": [
    "maxima = fechamento.max()\n",
    "minima = fechamento.min()\n",
    "atual = fechamento[-1]"
   ]
  },
  {
   "cell_type": "markdown",
   "id": "59e0c825",
   "metadata": {},
   "source": [
    "# Passo 3\n",
    "\n",
    "- Abirir nova aba e digitar o endereço do email\n",
    "- Clicar no botão de escrever e-mail\n",
    "- preencher o e-mail do destinatário\n",
    "- Preencher o assunto\n",
    "- escrever o e-mail\n",
    "- clicar em enviar"
   ]
  },
  {
   "cell_type": "code",
   "execution_count": 26,
   "id": "95000d07",
   "metadata": {},
   "outputs": [
    {
     "name": "stdout",
     "output_type": "stream",
     "text": [
      "Defaulting to user installation because normal site-packages is not writeable\n",
      "Requirement already satisfied: pyautogui in c:\\users\\asus\\appdata\\roaming\\python\\python39\\site-packages (0.9.53)\n",
      "Requirement already satisfied: pymsgbox in c:\\users\\asus\\appdata\\roaming\\python\\python39\\site-packages (from pyautogui) (1.0.9)\n",
      "Requirement already satisfied: PyTweening>=1.0.1 in c:\\users\\asus\\appdata\\roaming\\python\\python39\\site-packages (from pyautogui) (1.0.4)\n",
      "Requirement already satisfied: pyscreeze>=0.1.21 in c:\\users\\asus\\appdata\\roaming\\python\\python39\\site-packages (from pyautogui) (0.1.28)\n",
      "Requirement already satisfied: mouseinfo in c:\\users\\asus\\appdata\\roaming\\python\\python39\\site-packages (from pyautogui) (0.1.3)\n",
      "Requirement already satisfied: pygetwindow>=0.0.5 in c:\\users\\asus\\appdata\\roaming\\python\\python39\\site-packages (from pyautogui) (0.0.9)\n",
      "Requirement already satisfied: pyrect in c:\\users\\asus\\appdata\\roaming\\python\\python39\\site-packages (from pygetwindow>=0.0.5->pyautogui) (0.2.0)\n",
      "Requirement already satisfied: pyperclip in c:\\users\\asus\\appdata\\roaming\\python\\python39\\site-packages (from mouseinfo->pyautogui) (1.8.2)\n"
     ]
    }
   ],
   "source": [
    "!pip install pyautogui"
   ]
  },
  {
   "cell_type": "code",
   "execution_count": 25,
   "id": "3340b646",
   "metadata": {},
   "outputs": [
    {
     "name": "stdout",
     "output_type": "stream",
     "text": [
      "Defaulting to user installation because normal site-packages is not writeable\n",
      "Requirement already satisfied: pyperclip in c:\\users\\asus\\appdata\\roaming\\python\\python39\\site-packages (1.8.2)\n"
     ]
    }
   ],
   "source": [
    "!pip install pyperclip"
   ]
  },
  {
   "cell_type": "code",
   "execution_count": 52,
   "id": "e8505d47",
   "metadata": {},
   "outputs": [],
   "source": [
    "import pyautogui\n",
    "import pyperclip"
   ]
  },
  {
   "cell_type": "code",
   "execution_count": 95,
   "id": "eacd91ea",
   "metadata": {},
   "outputs": [],
   "source": [
    "pyautogui.PAUSE = 3\n",
    "\n",
    "pyautogui.hotkey(\"Ctrl\",\"t\")\n",
    "pyperclip.copy(\"www.gmail.com\")\n",
    "pyautogui.hotkey(\"Ctrl\",\"v\")\n",
    "pyautogui.hotkey(\"enter\")\n",
    "pyautogui.click(x=69, y=199)\n",
    "\n",
    "pyperclip.copy(\"Email do Gestor\")\n",
    "pyautogui.hotkey(\"Ctrl\",\"v\")\n",
    "pyautogui.hotkey(\"tab\")\n",
    "\n",
    "pyperclip.copy(\"Analises diarias\")\n",
    "pyautogui.hotkey(\"Ctrl\",\"v\")\n",
    "pyautogui.hotkey(\"tab\")\n",
    "\n",
    "mensagem = f\"\"\"\n",
    "Prezado Gestor, \n",
    "\n",
    "Seguem as analises dos ultimos seis meses das Ações da {ticker}:\n",
    "\n",
    "Cotação máxima : R$ {round(maxima, 2)}\n",
    "Cotação minima: R$ {round(minima, 2)}\n",
    "Cotação atual: R$ {round(atual, 2)}\n",
    "\n",
    "Qualquer duvida estou a disposição\n",
    "ATT: Iskvaz\n",
    "\n",
    "\"\"\"\n",
    "pyperclip.copy(mensagem)\n",
    "pyautogui.hotkey(\"ctrl\", \"v\")\n",
    "\n",
    "pyautogui.click(x=842, y=699)"
   ]
  },
  {
   "cell_type": "code",
   "execution_count": 86,
   "id": "3a360708",
   "metadata": {},
   "outputs": [
    {
     "data": {
      "text/plain": [
       "Point(x=842, y=699)"
      ]
     },
     "execution_count": 86,
     "metadata": {},
     "output_type": "execute_result"
    }
   ],
   "source": [
    "import time\n",
    "\n",
    "time.sleep(8)\n",
    "pyautogui.position()"
   ]
  },
  {
   "cell_type": "code",
   "execution_count": null,
   "id": "05435ecf",
   "metadata": {},
   "outputs": [],
   "source": []
  },
  {
   "cell_type": "code",
   "execution_count": null,
   "id": "7c1279f2",
   "metadata": {},
   "outputs": [],
   "source": []
  },
  {
   "cell_type": "code",
   "execution_count": null,
   "id": "e4b90f4f",
   "metadata": {},
   "outputs": [],
   "source": []
  },
  {
   "cell_type": "code",
   "execution_count": null,
   "id": "218bc4b0",
   "metadata": {},
   "outputs": [],
   "source": []
  },
  {
   "cell_type": "code",
   "execution_count": null,
   "id": "d01655db",
   "metadata": {},
   "outputs": [],
   "source": []
  },
  {
   "cell_type": "code",
   "execution_count": null,
   "id": "fc03f1ae",
   "metadata": {},
   "outputs": [],
   "source": []
  },
  {
   "cell_type": "code",
   "execution_count": null,
   "id": "3f0f6e9f",
   "metadata": {},
   "outputs": [],
   "source": []
  },
  {
   "cell_type": "code",
   "execution_count": null,
   "id": "65a59c0f",
   "metadata": {},
   "outputs": [],
   "source": []
  },
  {
   "cell_type": "code",
   "execution_count": null,
   "id": "56511270",
   "metadata": {},
   "outputs": [],
   "source": []
  }
 ],
 "metadata": {
  "kernelspec": {
   "display_name": "Python 3 (ipykernel)",
   "language": "python",
   "name": "python3"
  },
  "language_info": {
   "codemirror_mode": {
    "name": "ipython",
    "version": 3
   },
   "file_extension": ".py",
   "mimetype": "text/x-python",
   "name": "python",
   "nbconvert_exporter": "python",
   "pygments_lexer": "ipython3",
   "version": "3.9.12"
  }
 },
 "nbformat": 4,
 "nbformat_minor": 5
}
